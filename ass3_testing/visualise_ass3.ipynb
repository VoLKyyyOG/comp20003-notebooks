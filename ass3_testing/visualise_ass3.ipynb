{
 "cells": [
  {
   "cell_type": "markdown",
   "metadata": {},
   "source": [
    "# Assignment 3 Test Script\n",
    "This is just an alternative notebook which runs your assignment 3 solution.\n",
    "\n",
    "Note: This script is not rigorous testing, it is just provided as a convenience."
   ]
  },
  {
   "cell_type": "markdown",
   "metadata": {},
   "source": [
    "### Run Script"
   ]
  },
  {
   "cell_type": "code",
   "execution_count": null,
   "metadata": {},
   "outputs": [],
   "source": [
    "# Cell 1: Test your code by running this cell.\n",
    "import subprocess\n",
    "import os\n",
    "import datetime\n",
    "def timelog(*args, **kwargs):\n",
    "    \"\"\"\n",
    "    Logs the message msg timestamped with the current time and date.\n",
    "    \"\"\"\n",
    "    print(\"[\", datetime.datetime.now(), \"]\", *args, **kwargs)\n",
    "\n",
    "budget = \"10000\"\n",
    "levels = [\"1\", \"2\", \"3\", \"4\"]\n",
    "executions = [\"./pegsol {} AI {}\".format(level, budget) for level in levels]\n",
    "\n",
    "program = subprocess.Popen(['bash', '-c', \"cd submission && make -B all && {}\".format(\" && \".join(executions))], \n",
    "                           stdout=subprocess.PIPE, stderr=subprocess.PIPE)\n",
    "timelog(\" - stdout - \")\n",
    "print(program.stdout.read().decode())\n",
    "timelog(\" - stderr - \")\n",
    "error_text = program.stderr.read().decode()\n",
    "#if not error_text:\n",
    "    #error_text = \"No execution errors!\"\n",
    "print(error_text)\n",
    "timelog(\" ---------- \")\n",
    "timelog(\"Test completed.\")"
   ]
  },
  {
   "cell_type": "markdown",
   "metadata": {},
   "source": [
    "## Packaging Solution\n",
    "<span style=\"color:red\">Make sure the execution number here is greater than your test above, don't accidentally submit old code!</span>\n",
    "\n",
    "This code can be rerun without issue.\n",
    "\n",
    "If you want to check the contents of the archive locally, the unzipall.py script in this folder may be useful (run `python unzipall.py xxxxxx.zip`)."
   ]
  },
  {
   "cell_type": "code",
   "execution_count": null,
   "metadata": {},
   "outputs": [],
   "source": [
    "# Cell 2: Zip up your submission.\n",
    "import os\n",
    "import submitutils\n",
    "\n",
    "os.popen(\"rm -rf submission/*.o submission/pegsol submission/*.o submission/src/*.o submission/vgcore.* submission/core submission/output.txt\").read()\n",
    "submitutils.do_zip()"
   ]
  }
 ],
 "metadata": {
  "kernelspec": {
   "display_name": "Python 3",
   "language": "python",
   "name": "python3"
  },
  "language_info": {
   "codemirror_mode": {
    "name": "ipython",
    "version": 3
   },
   "file_extension": ".py",
   "mimetype": "text/x-python",
   "name": "python",
   "nbconvert_exporter": "python",
   "pygments_lexer": "ipython3",
   "version": "3.7.4"
  }
 },
 "nbformat": 4,
 "nbformat_minor": 4
}
