{
 "cells": [
  {
   "cell_type": "markdown",
   "metadata": {},
   "source": [
    "# Visualisation for Assignment 2\n",
    "1. Place your code in the submission folder.\n",
    "2. Set the search point (lon, lat).\n",
    "3. If you would like to view the full map space, set `zoom_on_found` to `False` (or to `True`)\n",
    "3. Run the first cell to test map1\n",
    "4. For the second cell, you can also set the `radius`\n",
    "5. Run the second cell to test map2\n",
    "\n",
    "Note: This script is not rigorous testing, it is meant as a useful tool to check visually whether your results make sense."
   ]
  },
  {
   "cell_type": "markdown",
   "metadata": {},
   "source": [
    "### Map1 Visualisation\n",
    "The search point is shown as a green dot, found points are shown as blue dots and all CLUE data points are shown as red dots."
   ]
  },
  {
   "cell_type": "code",
   "execution_count": null,
   "metadata": {},
   "outputs": [],
   "source": [
    "search_point = [144.959522, -37.800095]\n",
    "zoom_on_found = True\n",
    "\n",
    "import visualise_ass2\n",
    "visualise_ass2.ass2_part_one(search_point, zoom_on_found)\n"
   ]
  },
  {
   "cell_type": "markdown",
   "metadata": {},
   "source": [
    "### Map2 Visualisation\n",
    "The search point is shown as a green dot, with the circle with the search radius also in green, found points are shown as blue dots and all CLUE data points are shown as red dots."
   ]
  },
  {
   "cell_type": "code",
   "execution_count": null,
   "metadata": {},
   "outputs": [],
   "source": [
    "zoom_on_found = False\n",
    "search_point = [144.959522, -37.800095]\n",
    "radius = 0.0005\n",
    "\n",
    "import visualise_ass2\n",
    "\n",
    "visualise_ass2.ass2_part_two(search_point, radius, zoom_on_found)"
   ]
  },
  {
   "cell_type": "markdown",
   "metadata": {},
   "source": [
    "## Packaging Solution\n",
    "<span style=\"color:red\">Make sure the execution number here is greater than your test above, don't accidentally submit old code!</span>\n",
    "\n",
    "This code can be rerun without issue.\n",
    "\n",
    "If you want to check the contents of the archive locally, the unzipall.py script in this folder may be useful (run `python unzipall.py xxxxxx.zip`)."
   ]
  },
  {
   "cell_type": "code",
   "execution_count": null,
   "metadata": {},
   "outputs": [],
   "source": [
    "# Cell 2: Zip up your submission.\n",
    "import os\n",
    "import submitutils\n",
    "\n",
    "os.popen(\"rm -rf submission/*.o submission/map1 submission/map2 submission/results vgcore.* core\").read()\n",
    "submitutils.do_zip()"
   ]
  },
  {
   "cell_type": "markdown",
   "metadata": {},
   "source": [
    "#### Credits\n",
    "Map data is © OpenStreetMap contributors, made available under the Open Database License and licenced as CC BY-SA 2.0 https://www.openstreetmap.org/copyright .\n",
    "\n",
    "Map data generated with the assistance of the docker container here: https://github.com/Overv/openstreetmap-tile-server and code from here: https://stackoverflow.com/questions/28476117/easy-openstreetmap-tile-displaying-for-python"
   ]
  }
 ],
 "metadata": {
  "kernelspec": {
   "display_name": "Python 3",
   "language": "python",
   "name": "python3"
  },
  "language_info": {
   "codemirror_mode": {
    "name": "ipython",
    "version": 3
   },
   "file_extension": ".py",
   "mimetype": "text/x-python",
   "name": "python",
   "nbconvert_exporter": "python",
   "pygments_lexer": "ipython3",
   "version": "3.7.4"
  }
 },
 "nbformat": 4,
 "nbformat_minor": 4
}
