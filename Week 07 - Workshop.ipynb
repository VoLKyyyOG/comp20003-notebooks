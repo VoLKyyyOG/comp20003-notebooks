{
 "cells": [
  {
   "cell_type": "markdown",
   "metadata": {},
   "source": [
    "# Worksheet 6"
   ]
  },
  {
   "cell_type": "markdown",
   "metadata": {},
   "source": [
    "## Overview\n",
    "The workshop for Week 7 will start with a tutorial on Quicksort, and you will implement a Hash Function / Hash Table.\n",
    "\n",
    "## Tutorial Questions\n",
    "**Question 6.1** You are asked to show the operation of quicksort on the following keys. For simplicity, use the rightmost element as the partition element:\n",
    "- 2 3 97 23 15 21 4 23 29 37 5 23\n",
    "Comment on the stability of quicksort and its behaviour on almost sorted inputs.\n",
    "\n",
    "## Programming Exercises\n",
    "**Programming 6.1** Implementing a hash table will help you understand how it works. In this laboratory, you are asked to implement an open addressing hash table that uses linear probing for collision resolution. In the interests of simplicity, and to help you implement the hash table quickly, you can simply store integers (keys), keep the table very small (suggested size 13, why?), and use a very simple hash function, e.g. ``f(key) = (key*97)%13``. Implement a function *printTable(ht)*, so that you can check what is in the hash table at every step. Remember that you will get a segmentation fault if you try to print a *NULL* value, so wrap the printing within a conditional statement that test for *NULL*.\n",
    "\n",
    "Because the table is small, you can engineer collisions. Check what happens when you get a collision, then when you get two collisions, etc. Think about how you could handle the situation where the table is almost full - How nearly full are you going to let it get? Could you expand the table? If you expand the table, what will happen to the items that are already in the table?\n",
    "\n",
    "Programming 5.2's material may be useful for reference if you get stuck, though it does not handle unresolvable collisions well. Likewise, not worrying about polymorphism may save you some time and confusion."
   ]
  },
  {
   "cell_type": "code",
   "execution_count": null,
   "metadata": {},
   "outputs": [],
   "source": [
    "//%test_script:week7/test_p_6.1.sh\n",
    "#include <stdio.h>\n",
    "#include <stdlib.h>\n",
    "\n",
    "#define INPUTSIZE 14\n",
    "\n",
    "/* Declare hash table data structure */\n",
    "\n",
    "/* Write insert function */\n",
    "\n",
    "/* Write printTable function. */\n",
    "\n",
    "/* Write freeTable function. */\n",
    "\n",
    "int main(int argc, char **argv){\n",
    "    \n",
    "    int inputs[INPUTSIZE] = {2, 3, 97, 23, 15, 21, 4, 23, 29, 37, 5, 23, 28, 40};\n",
    "    \n",
    "    /* Declare table. */\n",
    "    \n",
    "    int i;\n",
    "    \n",
    "    /* Create empty table. */\n",
    "    printf(\"Created hash table of size 13\\n\");\n",
    "    printTable(/* table */);\n",
    "    \n",
    "    for(i = 0; i < INPUTSIZE; i++){\n",
    "        printf(\"Inserting %d\\n\",inputs[i]);\n",
    "        insert(/* table */, inputs[i]);\n",
    "        printTable(/* table */);\n",
    "    }\n",
    "    printf(\"Finished inserting items into table\\n\");\n",
    "    \n",
    "    freeTable(/* Table */);\n",
    "    \n",
    "    return 0;\n",
    "}"
   ]
  },
  {
   "cell_type": "markdown",
   "metadata": {},
   "source": [
    "**Programming 6.2** For this exercise, you will need to implement a quicksort partition. The partition function works over the array from two directions, when it finds two values which should be on the opposite side, it stops. Once both pointers have stopped, *if the pointers are still on different sides*, the values are swapped. This continues until the two pointers are no longer on different sides. After this process completes, we swap the pivot value with the pointer which is *at this point* pointing to a value which should be on the same side as the pivot.\n",
    "\n",
    "The pivot determines which side values should be on. Use the 0th index (leftmost) value as the pivot.\n",
    "\n",
    "Following the partition function, all values before the pivot should be less than the pivot (but won't necessarily be in sorted order)."
   ]
  },
  {
   "cell_type": "code",
   "execution_count": null,
   "metadata": {},
   "outputs": [],
   "source": [
    "//%test_script:week7/test_p_6.2.sh\n",
    "#include <stdio.h>\n",
    "#include <stdlib.h>\n",
    "#include \"/home/jovyan/workshops/week7/p6.2_helpers.c\"\n",
    "\n",
    "void partition(int *array, int length){\n",
    "    int i, j;\n",
    "    /* Leftmost pivot */\n",
    "    int pivot = array[0];\n",
    "    /* Impelment partition here */\n",
    "    \n",
    "    \n",
    "    \n",
    "    \n",
    "    /* ------------------------ */\n",
    "}\n",
    "\n",
    "void swap(int index1, int index2, int *array){\n",
    "    printf(\"Swapping index %d, containing %d and index %d, containing %d\\n\", index1, array[index1], index2, array[index2]);\n",
    "    int temp = array[index1];\n",
    "    array[index1] = array[index2];\n",
    "    array[index2] = temp;\n",
    "}\n",
    "\n",
    "int main(int argc, char **argv){\n",
    "    int array[] = {5, 6, 3, 8, 1, 2, 7, 4, 9};\n",
    "    int arrayLength = sizeof(array) / sizeof(array[0]);\n",
    "    printf(\"Before: \");\n",
    "    printArray(array, arrayLength);\n",
    "    \n",
    "    partition(array, arrayLength);\n",
    "    \n",
    "    printf(\"After: \");\n",
    "    printArray(array, arrayLength);\n",
    "    return 0;\n",
    "}\n"
   ]
  }
 ],
 "metadata": {
  "kernelspec": {
   "display_name": "C",
   "language": "c",
   "name": "c"
  },
  "language_info": {
   "file_extension": ".c",
   "mimetype": "text/plain",
   "name": "c"
  }
 },
 "nbformat": 4,
 "nbformat_minor": 4
}
